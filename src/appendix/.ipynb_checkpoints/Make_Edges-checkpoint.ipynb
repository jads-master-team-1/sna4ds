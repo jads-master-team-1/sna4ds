{
 "cells": [
  {
   "cell_type": "markdown",
   "metadata": {
    "id": "W9Gtw7hgR8OA"
   },
   "source": [
    "# Code to create weighted edges between MEPs"
   ]
  },
  {
   "cell_type": "code",
   "execution_count": 33,
   "metadata": {},
   "outputs": [],
   "source": [
    "import pandas as pd\n",
    "import os\n",
    "from pathlib import Path\n",
    "\n",
    "df = pd.read_csv(os.path.join(Path(os.getcwd()).parents[1],'data','MEP_social.csv')) "
   ]
  },
  {
   "cell_type": "code",
   "execution_count": 34,
   "metadata": {
    "colab": {
     "base_uri": "https://localhost:8080/",
     "height": 307
    },
    "id": "v9KchsziSAyg",
    "outputId": "0cde641d-969c-416b-b0f6-e850526b17cd"
   },
   "outputs": [
    {
     "data": {
      "text/html": [
       "<div>\n",
       "<style scoped>\n",
       "    .dataframe tbody tr th:only-of-type {\n",
       "        vertical-align: middle;\n",
       "    }\n",
       "\n",
       "    .dataframe tbody tr th {\n",
       "        vertical-align: top;\n",
       "    }\n",
       "\n",
       "    .dataframe thead th {\n",
       "        text-align: right;\n",
       "    }\n",
       "</style>\n",
       "<table border=\"1\" class=\"dataframe\">\n",
       "  <thead>\n",
       "    <tr style=\"text-align: right;\">\n",
       "      <th></th>\n",
       "      <th>MEP</th>\n",
       "      <th>group_abbv</th>\n",
       "      <th>country</th>\n",
       "      <th>Paragraph 1, amendment 5</th>\n",
       "      <th>Paragraph 3, amendment 6</th>\n",
       "      <th>Paragraph 6/1</th>\n",
       "      <th>Paragraph 6/2</th>\n",
       "      <th>Paragraph 16, indent 5, amendment 7</th>\n",
       "      <th>Paragraph 18</th>\n",
       "      <th>Paragraph 19</th>\n",
       "      <th>...</th>\n",
       "      <th>Citation 3/1</th>\n",
       "      <th>Citation 3/2</th>\n",
       "      <th>After citation 4, amendment 1</th>\n",
       "      <th>Recital G, amendment 2</th>\n",
       "      <th>Recital J/1</th>\n",
       "      <th>Recital J/2</th>\n",
       "      <th>Recital J/3</th>\n",
       "      <th>Recital V, amendment 3</th>\n",
       "      <th>Recital AE, amendment 4</th>\n",
       "      <th>vote: resolution (as a whole)</th>\n",
       "    </tr>\n",
       "  </thead>\n",
       "  <tbody>\n",
       "    <tr>\n",
       "      <th>0</th>\n",
       "      <td>Rasmus Andresen</td>\n",
       "      <td>Greens/EFA</td>\n",
       "      <td>Germany</td>\n",
       "      <td>Against</td>\n",
       "      <td>Against</td>\n",
       "      <td>For</td>\n",
       "      <td>For</td>\n",
       "      <td>Against</td>\n",
       "      <td>For</td>\n",
       "      <td>For</td>\n",
       "      <td>...</td>\n",
       "      <td>For</td>\n",
       "      <td>For</td>\n",
       "      <td>For</td>\n",
       "      <td>Against</td>\n",
       "      <td>For</td>\n",
       "      <td>For</td>\n",
       "      <td>For</td>\n",
       "      <td>Against</td>\n",
       "      <td>Against</td>\n",
       "      <td>Abstain</td>\n",
       "    </tr>\n",
       "    <tr>\n",
       "      <th>1</th>\n",
       "      <td>Michael Bloss</td>\n",
       "      <td>Greens/EFA</td>\n",
       "      <td>Germany</td>\n",
       "      <td>Against</td>\n",
       "      <td>Against</td>\n",
       "      <td>For</td>\n",
       "      <td>For</td>\n",
       "      <td>Against</td>\n",
       "      <td>For</td>\n",
       "      <td>For</td>\n",
       "      <td>...</td>\n",
       "      <td>For</td>\n",
       "      <td>For</td>\n",
       "      <td>For</td>\n",
       "      <td>Against</td>\n",
       "      <td>For</td>\n",
       "      <td>For</td>\n",
       "      <td>For</td>\n",
       "      <td>Against</td>\n",
       "      <td>Against</td>\n",
       "      <td>Abstain</td>\n",
       "    </tr>\n",
       "    <tr>\n",
       "      <th>2</th>\n",
       "      <td>Reinhard Butikofer</td>\n",
       "      <td>Greens/EFA</td>\n",
       "      <td>Germany</td>\n",
       "      <td>Against</td>\n",
       "      <td>Against</td>\n",
       "      <td>For</td>\n",
       "      <td>For</td>\n",
       "      <td>Against</td>\n",
       "      <td>For</td>\n",
       "      <td>For</td>\n",
       "      <td>...</td>\n",
       "      <td>For</td>\n",
       "      <td>For</td>\n",
       "      <td>For</td>\n",
       "      <td>Against</td>\n",
       "      <td>For</td>\n",
       "      <td>For</td>\n",
       "      <td>For</td>\n",
       "      <td>Against</td>\n",
       "      <td>Against</td>\n",
       "      <td>Abstain</td>\n",
       "    </tr>\n",
       "    <tr>\n",
       "      <th>3</th>\n",
       "      <td>Anna Cavazzini</td>\n",
       "      <td>Greens/EFA</td>\n",
       "      <td>Germany</td>\n",
       "      <td>Against</td>\n",
       "      <td>Against</td>\n",
       "      <td>For</td>\n",
       "      <td>For</td>\n",
       "      <td>Against</td>\n",
       "      <td>For</td>\n",
       "      <td>For</td>\n",
       "      <td>...</td>\n",
       "      <td>For</td>\n",
       "      <td>For</td>\n",
       "      <td>For</td>\n",
       "      <td>Against</td>\n",
       "      <td>For</td>\n",
       "      <td>For</td>\n",
       "      <td>For</td>\n",
       "      <td>Against</td>\n",
       "      <td>Against</td>\n",
       "      <td>Abstain</td>\n",
       "    </tr>\n",
       "    <tr>\n",
       "      <th>4</th>\n",
       "      <td>Anna Deparnay Grunenberg</td>\n",
       "      <td>Greens/EFA</td>\n",
       "      <td>Germany</td>\n",
       "      <td>Against</td>\n",
       "      <td>Against</td>\n",
       "      <td>For</td>\n",
       "      <td>For</td>\n",
       "      <td>Against</td>\n",
       "      <td>For</td>\n",
       "      <td>For</td>\n",
       "      <td>...</td>\n",
       "      <td>For</td>\n",
       "      <td>For</td>\n",
       "      <td>For</td>\n",
       "      <td>Against</td>\n",
       "      <td>For</td>\n",
       "      <td>For</td>\n",
       "      <td>For</td>\n",
       "      <td>Against</td>\n",
       "      <td>Against</td>\n",
       "      <td>Abstain</td>\n",
       "    </tr>\n",
       "  </tbody>\n",
       "</table>\n",
       "<p>5 rows × 47 columns</p>\n",
       "</div>"
      ],
      "text/plain": [
       "                        MEP  group_abbv  country Paragraph 1, amendment 5  \\\n",
       "0           Rasmus Andresen  Greens/EFA  Germany                  Against   \n",
       "1             Michael Bloss  Greens/EFA  Germany                  Against   \n",
       "2        Reinhard Butikofer  Greens/EFA  Germany                  Against   \n",
       "3            Anna Cavazzini  Greens/EFA  Germany                  Against   \n",
       "4  Anna Deparnay Grunenberg  Greens/EFA  Germany                  Against   \n",
       "\n",
       "  Paragraph 3, amendment 6 Paragraph 6/1 Paragraph 6/2  \\\n",
       "0                  Against           For           For   \n",
       "1                  Against           For           For   \n",
       "2                  Against           For           For   \n",
       "3                  Against           For           For   \n",
       "4                  Against           For           For   \n",
       "\n",
       "  Paragraph 16, indent 5, amendment 7 Paragraph 18 Paragraph 19  ...  \\\n",
       "0                             Against          For          For  ...   \n",
       "1                             Against          For          For  ...   \n",
       "2                             Against          For          For  ...   \n",
       "3                             Against          For          For  ...   \n",
       "4                             Against          For          For  ...   \n",
       "\n",
       "  Citation 3/1 Citation 3/2 After citation 4, amendment 1  \\\n",
       "0          For          For                           For   \n",
       "1          For          For                           For   \n",
       "2          For          For                           For   \n",
       "3          For          For                           For   \n",
       "4          For          For                           For   \n",
       "\n",
       "  Recital G, amendment 2 Recital J/1 Recital J/2 Recital J/3  \\\n",
       "0                Against         For         For         For   \n",
       "1                Against         For         For         For   \n",
       "2                Against         For         For         For   \n",
       "3                Against         For         For         For   \n",
       "4                Against         For         For         For   \n",
       "\n",
       "  Recital V, amendment 3 Recital AE, amendment 4 vote: resolution (as a whole)  \n",
       "0                Against                 Against                       Abstain  \n",
       "1                Against                 Against                       Abstain  \n",
       "2                Against                 Against                       Abstain  \n",
       "3                Against                 Against                       Abstain  \n",
       "4                Against                 Against                       Abstain  \n",
       "\n",
       "[5 rows x 47 columns]"
      ]
     },
     "execution_count": 34,
     "metadata": {},
     "output_type": "execute_result"
    }
   ],
   "source": [
    "df.head()"
   ]
  },
  {
   "cell_type": "code",
   "execution_count": 35,
   "metadata": {
    "id": "dX0F8nHJSEBT"
   },
   "outputs": [],
   "source": [
    "# Creating index column\n",
    "df.reset_index(inplace=True)\n",
    "df = df.rename(columns = {'index':'index_no'})"
   ]
  },
  {
   "cell_type": "code",
   "execution_count": 36,
   "metadata": {
    "id": "00skqUqDSFqa"
   },
   "outputs": [],
   "source": [
    "# Function to compare two MEPs to check their agreement\n",
    "def compare_row(row1, row2):\n",
    "    # Initial agreement is 0\n",
    "    count = 0\n",
    "    for elem, elem2 in zip(row1[4:], row2[4:]):\n",
    "        # Only checks for agreement if first MEP has voted for or against (abstain/ not present not considered as something that can be agreed on)\n",
    "        if (elem == 'For') | (elem == 'Against'):\n",
    "            # If the two MEPs agree on this vote then increment count by 1\n",
    "            if elem == elem2:\n",
    "                count = count + 1\n",
    "    # Return final count of agreement for the two MEPs\n",
    "    return count"
   ]
  },
  {
   "cell_type": "code",
   "execution_count": null,
   "metadata": {
    "colab": {
     "base_uri": "https://localhost:8080/",
     "height": 1000
    },
    "id": "sijihDDTSHL7",
    "outputId": "af732b94-6ead-490f-cce6-1b81140f2fa8"
   },
   "outputs": [
    {
     "name": "stdout",
     "output_type": "stream",
     "text": [
      "0\n",
      "1\n",
      "2\n",
      "3\n",
      "4\n",
      "5\n",
      "6\n",
      "7\n",
      "8\n",
      "9\n",
      "10\n"
     ]
    }
   ],
   "source": [
    "# Creating new dataframe to hold weighted edges\n",
    "edges = pd.DataFrame(columns=['MEP_1', 'MEP_2', 'Agreement'])\n",
    "\n",
    "# Iterate through each MEP row\n",
    "for index, row in df.iterrows():\n",
    "    # Printing MEP index to track progress\n",
    "    print(row.index_no)\n",
    "    # Iterating through MEP rows again\n",
    "    for index2, row2 in df.iterrows():\n",
    "        # Only comparing rows if the index of the first MEP is lower than the index of the second MEP\n",
    "        # To avoid checking MEPs against themselves and not to compare pairs of MEPs twice\n",
    "        if row.index_no < row2.index_no:\n",
    "            # Calculating weight of edge\n",
    "            agreement = compare_row(row, row2)\n",
    "            # Adding names of MEPs and agreement to dataframe\n",
    "            edges.loc[len(edges.index)] = [row.MEP, row2.MEP,agreement]\n",
    "   \n",
    "# Printing final output\n",
    "edges.head()"
   ]
  },
  {
   "cell_type": "code",
   "execution_count": null,
   "metadata": {
    "colab": {
     "base_uri": "https://localhost:8080/"
    },
    "id": "U2xwVLjkSJWB",
    "outputId": "a97896ef-b0ba-44e2-a8ea-6f1a5ba2260a"
   },
   "outputs": [],
   "source": [
    "if len(edges) == 248160:\n",
    "    print('Correct number of edges')\n",
    "else:\n",
    "    print('Something went wrong')"
   ]
  },
  {
   "cell_type": "code",
   "execution_count": null,
   "metadata": {
    "id": "9MuWqLePSLRO"
   },
   "outputs": [],
   "source": [
    "# Saving edges to csv\n",
    "edges.to_csv(r'edges_for_against_industry.csv', index = False)"
   ]
  }
 ],
 "metadata": {
  "colab": {
   "collapsed_sections": [],
   "name": "Make_Edges.ipynb",
   "provenance": []
  },
  "kernelspec": {
   "display_name": "Python 3",
   "language": "python",
   "name": "python3"
  },
  "language_info": {
   "codemirror_mode": {
    "name": "ipython",
    "version": 3
   },
   "file_extension": ".py",
   "mimetype": "text/x-python",
   "name": "python",
   "nbconvert_exporter": "python",
   "pygments_lexer": "ipython3",
   "version": "3.8.5"
  }
 },
 "nbformat": 4,
 "nbformat_minor": 1
}
